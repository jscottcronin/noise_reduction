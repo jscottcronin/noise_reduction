{
 "cells": [
  {
   "cell_type": "code",
   "execution_count": 4,
   "id": "047cdb98-97bf-4a6f-88bf-2f6ae9871232",
   "metadata": {},
   "outputs": [],
   "source": [
    "from datetime import datetime\n",
    "\n",
    "import numpy as np\n",
    "import noisereduce as nr\n",
    "from scipy.signal import istft, stft\n",
    "import sounddevice as sd"
   ]
  },
  {
   "cell_type": "markdown",
   "id": "bfb3139f-3341-4941-bda0-73f0af6ed77f",
   "metadata": {},
   "source": [
    "### Default Devices"
   ]
  },
  {
   "cell_type": "code",
   "execution_count": 5,
   "id": "386ef5e4-e362-4979-ae56-154c63342a3b",
   "metadata": {
    "scrolled": true
   },
   "outputs": [
    {
     "name": "stdout",
     "output_type": "stream",
     "text": [
      "  0 RTK UHD HDR, Core Audio (0 in, 2 out)\n",
      "  1 External Headphones, Core Audio (0 in, 2 out)\n",
      "  2 MacBook Pro Microphone, Core Audio (1 in, 0 out)\n",
      "< 3 MacBook Pro Speakers, Core Audio (0 in, 2 out)\n",
      "> 4 krisp microphone, Core Audio (1 in, 0 out)\n",
      "  5 krisp speaker, Core Audio (0 in, 1 out)\n",
      "\n",
      "Default Devices for SD library:\n",
      "[4, 3]\n"
     ]
    }
   ],
   "source": [
    "print(sd.query_devices())\n",
    "print(f'\\nDefault Devices for SD library:\\n{sd.default.device}')"
   ]
  },
  {
   "cell_type": "code",
   "execution_count": 6,
   "id": "e109de23-b2bb-42c1-9074-52e124a5e857",
   "metadata": {
    "jupyter": {
     "source_hidden": true
    }
   },
   "outputs": [],
   "source": [
    "sd.default.device = [4, 1]"
   ]
  },
  {
   "cell_type": "markdown",
   "id": "fb3ee39a-6894-48d9-94f7-3f3c4e9d921c",
   "metadata": {},
   "source": [
    "### Set Defaults"
   ]
  },
  {
   "cell_type": "code",
   "execution_count": 7,
   "id": "f3b51588-b519-466e-bd9a-b36712b4f620",
   "metadata": {},
   "outputs": [],
   "source": [
    "sd.default.samplerate = 44100\n",
    "sd.default.channels = 1\n",
    "sd.default.blocksize = 0"
   ]
  },
  {
   "cell_type": "markdown",
   "id": "31f52b17-3468-436f-a614-f165ac7e9af4",
   "metadata": {},
   "source": [
    "### Latency Analysis\n",
    "\n",
    "Changing the blocksize in the stream directly affects the latency. I ran a few simulations with different blocksizes and its clear that it needs to be 512 or smaller when processing each chunk on the fly.\n",
    "\n",
    "|blocksize| block processing time |\n",
    "|:---:|:---------:|\n",
    "|  0  |     0.997 |\n",
    "| 512 |    11.587 |\n",
    "|1024|    23.184 |\n",
    "|2048|    46.188 |"
   ]
  },
  {
   "cell_type": "markdown",
   "id": "d70bdbfc-7a7e-45fd-b9fa-e61ef4a754ec",
   "metadata": {},
   "source": [
    "### Collect frequencies of Background Noise"
   ]
  },
  {
   "cell_type": "code",
   "execution_count": 28,
   "id": "c583b390-0c99-4ea5-98a5-c2d241985f31",
   "metadata": {},
   "outputs": [],
   "source": [
    "def get_noise(duration=5):\n",
    "    noise = sd.rec(int(duration * sd.default.samplerate), blocking=True).reshape(-1)\n",
    "    return noise\n",
    "\n",
    "def calculate_noise_spectrum(noise=None, duration=5):\n",
    "    if noise is None:\n",
    "        noise = sd.rec(int(duration * sd.default.samplerate), blocking=True).reshape(-1)\n",
    "    _, _, Zxx = stft(noise, fs=sd.default.samplerate, nperseg=512, noverlap=256)\n",
    "    noise_spectrum = np.mean(np.abs(Zxx), axis=1)\n",
    "    return noise_spectrum\n",
    "\n",
    "noise = get_noise()\n",
    "noise_spectrum = calculate_noise_spectrum(noise)"
   ]
  },
  {
   "cell_type": "markdown",
   "id": "cc07b88d-93f3-4f29-b89e-09d229591f64",
   "metadata": {},
   "source": [
    "# Remove Background Noise - Spectral Subtraction Algorithm"
   ]
  },
  {
   "cell_type": "code",
   "execution_count": 11,
   "id": "57f5219e-eb95-4d81-92f9-bdad62639bd4",
   "metadata": {
    "collapsed": true,
    "jupyter": {
     "outputs_hidden": true
    }
   },
   "outputs": [
    {
     "name": "stderr",
     "output_type": "stream",
     "text": [
      "Exception ignored from cffi callback <function _StreamBase.__init__.<locals>.callback_ptr at 0x168d4b740>:\n",
      "Traceback (most recent call last):\n",
      "  File \"/Users/scottcronin/.pyenv/versions/3.11.2/envs/noise_reduction/lib/python3.11/site-packages/sounddevice.py\", line 886, in callback_ptr\n",
      "    return _wrap_callback(\n",
      "           ^^^^^^^^^^^^^^^\n",
      "  File \"/Users/scottcronin/.pyenv/versions/3.11.2/envs/noise_reduction/lib/python3.11/site-packages/sounddevice.py\", line 2687, in _wrap_callback\n",
      "    callback(*args)\n",
      "  File \"/var/folders/38/31kdf54n52s1xyf2vrlp12qh0000gn/T/ipykernel_71893/43209452.py\", line 6, in callback\n",
      "NameError: name 'noise_spectrum' is not defined\n"
     ]
    },
    {
     "name": "stdout",
     "output_type": "stream",
     "text": [
      "input overflow\n"
     ]
    }
   ],
   "source": [
    "def callback(indata, outdata, frames, time, status):\n",
    "    global noise_spectrum\n",
    "    if status:\n",
    "        print(status)\n",
    "    _, _, Zxx = stft(indata.reshape(-1), fs=sd.default.samplerate, nperseg=512, noverlap=256)\n",
    "    enhanced = np.maximum(0, np.abs(Zxx) - 5. * noise_spectrum[:, np.newaxis])\n",
    "    _, out = istft(enhanced, fs=sd.default.samplerate, nperseg=512, noverlap=256)\n",
    "    outdata[:] = out.reshape(-1,1)\n",
    "    # outdata[:] = indata\n",
    "\n",
    "# can try to set latency to low if things don't work\n",
    "with sd.Stream(callback=callback, latency='low', blocksize=1024):\n",
    "    sd.sleep(int(5 * 1000))"
   ]
  },
  {
   "cell_type": "markdown",
   "id": "ae9961e9-421b-4cd7-a101-60c6ee7a0de0",
   "metadata": {},
   "source": [
    "# Remove Background Noise - NoiseReduce library with active noise reduction"
   ]
  },
  {
   "cell_type": "markdown",
   "id": "bd6c3804-eb17-44da-97a7-8aa93cc12939",
   "metadata": {},
   "source": [
    "Cannot run this with low latency"
   ]
  },
  {
   "cell_type": "code",
   "execution_count": null,
   "id": "c8217777-3788-47ae-9f9d-5a751c4cce52",
   "metadata": {},
   "outputs": [],
   "source": [
    "def callback(indata, outdata, frames, time, status):\n",
    "    global noise_spectrum\n",
    "    if status:\n",
    "        print(status)\n",
    "    red = nr.reduce_noise(indata.reshape(-1), sr=sd.default.samplerate, n_fft=512)\n",
    "    # outdata[:] = indata.reshape(-1,1)\n",
    "    outdata[:] = indata\n",
    "\n",
    "# can try to set latency to low if things don't work\n",
    "with sd.Stream(callback=callback, latency='low', blocksize=2048):\n",
    "    sd.sleep(int(duration * 1000))"
   ]
  },
  {
   "cell_type": "markdown",
   "id": "2485ac0a-2da5-489d-9dee-4145b10440e4",
   "metadata": {},
   "source": [
    "# Using a noise reduction app"
   ]
  },
  {
   "cell_type": "code",
   "execution_count": 12,
   "id": "acf1506f-34aa-4a7a-b4c6-1d4bce9b4ae2",
   "metadata": {
    "scrolled": true
   },
   "outputs": [
    {
     "name": "stdout",
     "output_type": "stream",
     "text": [
      "  0 RTK UHD HDR, Core Audio (0 in, 2 out)\n",
      "< 1 External Headphones, Core Audio (0 in, 2 out)\n",
      "  2 MacBook Pro Microphone, Core Audio (1 in, 0 out)\n",
      "  3 MacBook Pro Speakers, Core Audio (0 in, 2 out)\n",
      "> 4 krisp microphone, Core Audio (1 in, 0 out)\n",
      "  5 krisp speaker, Core Audio (0 in, 1 out)\n"
     ]
    }
   ],
   "source": [
    "print(sd.query_devices())"
   ]
  },
  {
   "cell_type": "code",
   "execution_count": 15,
   "id": "5f7115d6-0940-4ec7-b893-47cfdca8320f",
   "metadata": {},
   "outputs": [],
   "source": [
    "def callback(indata, outdata, frames, time, status):\n",
    "    outdata[:] = indata\n",
    "\n",
    "duration = 10.\n",
    "with sd.Stream(callback=callback, latency='low', blocksize=2048, device=[4,1]):\n",
    "    sd.sleep(int(duration * 1000))"
   ]
  },
  {
   "cell_type": "code",
   "execution_count": 14,
   "id": "12f40787-da94-436d-92df-3ea39f3d9278",
   "metadata": {},
   "outputs": [],
   "source": [
    "def callback(indata, outdata, frames, time, status):\n",
    "    outdata[:] = indata\n",
    "\n",
    "duration = 10.\n",
    "with sd.Stream(callback=callback, latency='low', blocksize=2048, device=[2,1]):\n",
    "    sd.sleep(int(duration * 1000))"
   ]
  }
 ],
 "metadata": {
  "kernelspec": {
   "display_name": "Python 3 (ipykernel)",
   "language": "python",
   "name": "python3"
  },
  "language_info": {
   "codemirror_mode": {
    "name": "ipython",
    "version": 3
   },
   "file_extension": ".py",
   "mimetype": "text/x-python",
   "name": "python",
   "nbconvert_exporter": "python",
   "pygments_lexer": "ipython3",
   "version": "3.11.2"
  }
 },
 "nbformat": 4,
 "nbformat_minor": 5
}
