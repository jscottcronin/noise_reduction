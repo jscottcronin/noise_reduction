{
 "cells": [
  {
   "cell_type": "code",
   "execution_count": 5,
   "id": "000c1731-4d11-4676-8cc0-28721d6cd134",
   "metadata": {},
   "outputs": [],
   "source": [
    "from scipy.io import wavfile\n",
    "import noisereduce as nr\n",
    "\n",
    "from noise_reduction.utils import listen, record"
   ]
  },
  {
   "cell_type": "code",
   "execution_count": 8,
   "id": "1d920661-ce4b-40cf-863d-448dce8eacfb",
   "metadata": {},
   "outputs": [],
   "source": [
    "listen('background_noise.wav')"
   ]
  },
  {
   "cell_type": "code",
   "execution_count": 9,
   "id": "3d70281e-ece3-4e28-9ac7-06bf0d2b6994",
   "metadata": {},
   "outputs": [],
   "source": [
    "listen('talking.wav')"
   ]
  },
  {
   "cell_type": "code",
   "execution_count": 10,
   "id": "44d72108-9bf8-45e5-9363-d48786c7c54c",
   "metadata": {},
   "outputs": [],
   "source": [
    "# load data\n",
    "rate, data = wavfile.read(\"talking.wav\")"
   ]
  },
  {
   "cell_type": "code",
   "execution_count": 25,
   "id": "c5746696-54b5-4733-b67e-7ecb6f6dfe53",
   "metadata": {},
   "outputs": [
    {
     "data": {
      "text/plain": [
       "array([-137, -311, -365, ...,  137,  106,   80], dtype=int16)"
      ]
     },
     "execution_count": 25,
     "metadata": {},
     "output_type": "execute_result"
    }
   ],
   "source": [
    "data"
   ]
  },
  {
   "cell_type": "code",
   "execution_count": 19,
   "id": "adbd4ba4-60e9-4c1c-8d30-cd6bb50efe17",
   "metadata": {},
   "outputs": [],
   "source": [
    "# perform noise reduction\n",
    "\n",
    "# Documentation Notes:\n",
    "# n_fft: should be 512 (23ms) at a sample rate of 22050\n",
    "\n",
    "reduced_noise = nr.reduce_noise(y=data, sr=rate, n_fft=512)"
   ]
  },
  {
   "cell_type": "code",
   "execution_count": 20,
   "id": "e7f6649b-d346-47bc-9858-1f015a517955",
   "metadata": {},
   "outputs": [],
   "source": [
    "wavfile.write(\"talking_reduced_noise_512.wav\", rate, reduced_noise)"
   ]
  },
  {
   "cell_type": "code",
   "execution_count": 22,
   "id": "eaa53b34-6035-400a-9c8b-2f932c1ec9f5",
   "metadata": {},
   "outputs": [],
   "source": [
    "listen('talking_reduced_noise.wav')"
   ]
  },
  {
   "cell_type": "code",
   "execution_count": 17,
   "id": "03f4e289-1962-4c19-9871-8e578998ebb1",
   "metadata": {},
   "outputs": [],
   "source": [
    "chunk = data[:1024]"
   ]
  },
  {
   "cell_type": "code",
   "execution_count": 18,
   "id": "2cea7254-22ab-4508-8fb9-e0c4d53835ee",
   "metadata": {},
   "outputs": [
    {
     "name": "stdout",
     "output_type": "stream",
     "text": [
      "7.85 ms ± 81 µs per loop (mean ± std. dev. of 7 runs, 100 loops each)\n"
     ]
    }
   ],
   "source": [
    "%%timeit\n",
    "nr.reduce_noise(y=chunk, sr=rate)"
   ]
  },
  {
   "cell_type": "code",
   "execution_count": null,
   "id": "08f1fd25-4102-45c1-8882-cc90320e1c4d",
   "metadata": {},
   "outputs": [],
   "source": []
  }
 ],
 "metadata": {
  "kernelspec": {
   "display_name": "Python 3 (ipykernel)",
   "language": "python",
   "name": "python3"
  },
  "language_info": {
   "codemirror_mode": {
    "name": "ipython",
    "version": 3
   },
   "file_extension": ".py",
   "mimetype": "text/x-python",
   "name": "python",
   "nbconvert_exporter": "python",
   "pygments_lexer": "ipython3",
   "version": "3.11.2"
  }
 },
 "nbformat": 4,
 "nbformat_minor": 5
}
